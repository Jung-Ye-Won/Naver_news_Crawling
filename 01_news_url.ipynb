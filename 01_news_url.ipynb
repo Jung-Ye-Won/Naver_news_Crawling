{
 "cells": [
  {
   "cell_type": "code",
   "execution_count": 6,
   "id": "9bfc52fd",
   "metadata": {},
   "outputs": [
    {
     "name": "stdout",
     "output_type": "stream",
     "text": [
      "\"정치\",\"경제\",\"사회\",\"생활\",\"세계\",\"과학\" 중 하나를 입력하세요.경제\n",
      "['https://n.news.naver.com/mnews/article/421/0006344240?sid=101', 'https://n.news.naver.com/mnews/article/421/0006344241?sid=101', 'https://n.news.naver.com/mnews/article/079/0003687081?sid=101', 'https://n.news.naver.com/mnews/article/374/0000303282?sid=101', 'https://n.news.naver.com/mnews/article/003/0011428572?sid=101', 'https://n.news.naver.com/mnews/article/088/0000775802?sid=101', 'https://n.news.naver.com/mnews/article/050/0000062136?sid=101', 'https://n.news.naver.com/mnews/article/020/0003451759?sid=101', 'https://n.news.naver.com/mnews/article/014/0004901316?sid=101', 'https://n.news.naver.com/mnews/article/008/0004796545?sid=101', 'https://n.news.naver.com/mnews/article/214/0001223355?sid=101', 'https://n.news.naver.com/mnews/article/277/0005149947?sid=101', 'https://n.news.naver.com/mnews/article/214/0001223354?sid=101', 'https://n.news.naver.com/mnews/article/629/0000173464?sid=101', 'https://n.news.naver.com/mnews/article/437/0000314446?sid=101', 'https://n.news.naver.com/mnews/article/081/0003302787?sid=101', 'https://n.news.naver.com/mnews/article/001/0013449542?sid=101', 'https://n.news.naver.com/mnews/article/088/0000775801?sid=101', 'https://n.news.naver.com/mnews/article/214/0001223349?sid=101', 'https://n.news.naver.com/mnews/article/001/0013449524?sid=101']\n"
     ]
    }
   ],
   "source": [
    "import requests\n",
    "from bs4 import BeautifulSoup\n",
    "\n",
    "def get_href(soup) : \n",
    "    #각 분야별 속보 기사에 접근할 수 있는 href를 리스트로 반환\n",
    "    \n",
    "    result = []\n",
    "    \n",
    "    div = soup.find(\"div\", class_=\"list_body newsflash_body\")\n",
    "    \n",
    "    for dt in div.find_all(\"dt\", class_=\"photo\"):\n",
    "        result.append(dt.find(\"a\")[\"href\"])\n",
    "    \n",
    "    return result\n",
    "\n",
    "def get_href(soup) : \n",
    "    #각 분야별 속보 기사에 접근할 수 있는 href를 리스트로 반환\n",
    "    \n",
    "    result = []\n",
    "    \n",
    "    div = soup.find(\"div\", class_=\"list_body newsflash_body\")\n",
    "    \n",
    "    for dt in div.find_all(\"dt\", class_=\"photo\"):\n",
    "        result.append(dt.find(\"a\")[\"href\"])\n",
    "    \n",
    "    return result\n",
    "\n",
    "def get_request(section) : \n",
    "    #입력된 분야에 맞는 request 객체를 반환\n",
    "    #아래 url에 쿼리를 적용한 것을 반환\n",
    "    custom_header = {\n",
    "        'referer' : 'https://www.naver.com',\n",
    "        'User-Agent' : 'Mozilla/5.0 (Window NT6.3; Win64; x64) AppleWebKit/537.36 (KHTML, like Gecko Chrome/105.0.5195.102 Safari/537.36)'\n",
    "    }\n",
    "    sections = {\n",
    "        \"정치\" : 100,\n",
    "        \"경제\" : 101,\n",
    "        \"사회\" : 102,\n",
    "        \"생활\" : 103,\n",
    "        \"세계\" : 104,\n",
    "        \"과학\" : 105\n",
    "    }\n",
    "    \n",
    "    url = \"https://news.naver.com/main/list.nhn\"\n",
    "    req = requests.get(url, headers = custom_header, params = {\"sid1\" : sections[section]})\n",
    "    \n",
    "    return req\n",
    "\n",
    "def main() : \n",
    "    list_href = []\n",
    "    \n",
    "    #섹션을 입력\n",
    "    section = input('\"정치\",\"경제\",\"사회\",\"생활\",\"세계\",\"과학\" 중 하나를 입력하세요.')\n",
    "    \n",
    "    req = get_request(section)\n",
    "    soup = BeautifulSoup(req.text, \"html.parser\")\n",
    "    \n",
    "    list_href = get_href(soup)\n",
    "    \n",
    "    print(list_href)\n",
    "    \n",
    "if __name__ == \"__main__\" : \n",
    "    main()"
   ]
  },
  {
   "cell_type": "code",
   "execution_count": null,
   "id": "ccbca45d",
   "metadata": {},
   "outputs": [],
   "source": []
  }
 ],
 "metadata": {
  "kernelspec": {
   "display_name": "Python 3 (ipykernel)",
   "language": "python",
   "name": "python3"
  },
  "language_info": {
   "codemirror_mode": {
    "name": "ipython",
    "version": 3
   },
   "file_extension": ".py",
   "mimetype": "text/x-python",
   "name": "python",
   "nbconvert_exporter": "python",
   "pygments_lexer": "ipython3",
   "version": "3.9.13"
  }
 },
 "nbformat": 4,
 "nbformat_minor": 5
}
